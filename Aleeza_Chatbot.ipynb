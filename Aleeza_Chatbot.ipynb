{
 "cells": [
  {
   "cell_type": "markdown",
   "metadata": {},
   "source": [
    "## Background: ELIZA\n",
    "#### The first ever Chatbot.\n",
    "\n",
    "<div style=\"display: flex; justify-content: center;\">\n",
    "<img src=\"https://upload.wikimedia.org/wikipedia/commons/7/79/ELIZA_conversation.png\" width=\"400\" height=\"250\" alt=\"ELIZA Conversation\">\n",
    "</div>\n",
    "\n",
    "This Chatbot was released in 1966 (before the term Chatbot even existed) by Joseph Weizenbaum of MIT. This was a revolutionary program that allowed humans to converse with a computer. As you may have predicted, this was a retrieval-based system, very different from the \"language models\" of today. However, you may be surprised by how well it performed despite the simplicity of the system. Here is part of a conversation someone had with ELIZA, from the original paper (the capitalised sentences are ELIZA's responses):\n",
    "\\\n",
    "\\\n",
    "Men are all alike.\\\n",
    "IN WHAT WAY\\\n",
    "They're always bugging us about something or other.\\\n",
    "CAN YOU THINK OF A SPECIFIC EXAMPLE\\\n",
    "Well, my boyfriend made me come here.\\\n",
    "YOUR BOYFRIEND MADE YOU COME HERE\\\n",
    "He says i'm depressed much of the time.\\\n",
    "I AM SORRY TO HEAR YOU ARE DEPRESSED\\\n",
    "It's true. I am unhappy.\\\n",
    "DO YOU THINK COMING HERE WILL HELP YOU NOT TO BE UNHAPPY\\\n",
    "......\n",
    "\n",
    "The program used certain programmed rules to \"transform\" the input into the output. In order to do this, the program must first decompose the sentence based on certain criteria and then reassemble it based on the predefined assembly specifications. For example, if it is provided with the input sentence, \"It seems that you hate me\", it may be decomposed into:\n",
    "\n",
    "1) It seems that\n",
    "2) you\n",
    "3) hate\n",
    "4) me\n",
    "\n",
    "Of these, (2) and (4) are recognised as key words. The program can then use the remaining sections of the sentence based on pre-defined rules to construct an output. For example, it may be programmed with the rule:\n",
    "\n",
    "decomposition template:\\\n",
    "(0 YOU 0 ME)\\\n",
    "and the reassembly rule:\\\n",
    "(WHAT MAKES YOU THINK I 3 YOU).\n",
    "\n",
    "Here, the \"0\" represents any number of words, whereas the \"3\" represents the 3rd part of the sentence from before. Hopefully, this makes the implementation a little clearer. If not, don't worry as you'll understand how it works once you start implementing your own version!\n",
    "\n",
    "For more details on the original ELIZA implementation, [Click Here](https://web.stanford.edu/class/cs124/p36-weizenabaum.pdf).\n"
   ]
  },
  {
   "cell_type": "code",
   "execution_count": 142,
   "metadata": {},
   "outputs": [],
   "source": [
    "import json\n",
    "import re\n",
    "import random"
   ]
  },
  {
   "cell_type": "markdown",
   "metadata": {},
   "source": [
    "#### Reflection Table\n",
    "\n",
    "This table serves to convert your pronouns from first person to second person and vice versa. "
   ]
  },
  {
   "cell_type": "code",
   "execution_count": 143,
   "metadata": {},
   "outputs": [],
   "source": [
    "reflectionTable = {\n",
    "    \"i\": \"you\",\n",
    "    \"me\": \"you\",\n",
    "    \"my\": \"your\",\n",
    "    \"mine\": \"yours\",\n",
    "    \"myself\": \"yourself\",\n",
    "    \"am\": \"are\",\n",
    "    \"was\": \"were\",\n",
    "    # \"are\": \"am\", \n",
    "    \"you\": \"I\",\n",
    "    \"your\": \"my\",\n",
    "    \"yours\": \"mine\",\n",
    "    \"yourself\": \"myself\",\n",
    "    \"us\": \"you\",\n",
    "    \"our\": \"your\",\n",
    "    \"ours\": \"yours\",\n",
    "    \"ourselves\": \"yourselves\"\n",
    "}\n",
    "\n"
   ]
  },
  {
   "cell_type": "markdown",
   "metadata": {},
   "source": [
    "#### Response Table\n",
    "\n",
    "This table is in the form of a nested list. Each entry is a list, with the first term being your regular expression and the second term being a list of possible responses. \"%n\" represents the nth match. You will need to handle this in your code later when replacing the relevant parts of the text.\n",
    "\n",
    "\n"
   ]
  },
  {
   "cell_type": "code",
   "execution_count": 144,
   "metadata": {},
   "outputs": [],
   "source": [
    "\n",
    "responseTable = json.load(open('responseTable.json'))"
   ]
  },
  {
   "cell_type": "code",
   "execution_count": 145,
   "metadata": {},
   "outputs": [
    {
     "name": "stdout",
     "output_type": "stream",
     "text": [
      "[['I am (.*)', ['I see, you are %1?', 'Why do you feel %1', \"Im sorry you feel %1, but that's okay, we all feel %1 somedays, what is causing you to feel this way? \", 'Lets trouble shoot what youre feeling, perhaps start by telling me more why you feel that way', 'That seems tough on you, wanna talk about it?']], ['You are (.*)', ['Am I really %1?', 'Why do you think I am %1?', 'How does it affect you that I am %1?']], ['He is (.*)', ['Why do you think he is %1?', 'Does it concern you that he is %1?', 'How do you feel about him being %1?']], ['She is (.*)', ['Why do you think she is %1?', 'Does it concern you that she is %1?', 'How do you feel about her being %1?']], ['It is (.*)', ['Why do you say it is %1?', 'Does it being %1 have any significance to you?', 'How does it being %1 affect you?']], ['I feel (.*)', ['Tell me more about feeling %1.', 'Why do you feel %1?', 'How long have you felt %1?']], ['I want (.*)', ['What would it mean to you if you got %1?', 'Why do you want %1?', 'What would you do if you got %1?']], ['I think (.*)', ['Do you often think %1?', 'Why do you think %1?', 'How does thinking %1 affect you?']], ['Are you (.*) ?', ['Why do you ask if I am %1?', 'Would it matter to you if I were %1?', 'What if I were not %1?']], ['(.*) is (.*)', ['Why do you say %1 is %2?', 'Do you think it is important that %1 is %2?', 'How does %1 being %2 affect you?']], ['Why (.*)', ['Why do you think?', 'Is that a question you often ask yourself?', 'What answer are you hoping for?', 'Whats your guess?']], ['(.*) will (.*)', ['Will doing %2 help you feel better or worse?', 'What do you hope to achieve out of doing %2?', 'Is doing %2 a goal of yours?']], ['Yes', ['Why do you answer %1?', 'Tell me more about this', 'How can we achieve this?']], ['My (.*)', ['Tell me more about your %1 ', 'do you think your %1 impacts you? How?', 'Is your %1 important to you?']], ['How can I stop feeling (.*)?', ['You can start by writing down a list of things that make you feel (.*) and then addressing them one by them, and talk to me about them', 'You can not stop feeling things, you must overcome the fear of feeling (.*), remind yourself youre stronger', 'Killing a feeling is a process, start by telling me whats something that makes you feel (.*) the most']], ['Im struggling with (.*)', ['Is it because of this assignemnt ?', 'Do you feel that you would struggle less if you drop your GenAI course?', 'Life is nothing but a struggle, thankyou for attending my ted talk']], ['I voted for (.*)', ['How did voting for %1 make you feel?', 'Why did you choose to vote for %1?', 'Do you think voting for %1 was the right decision?']], ['(.*)', ['Tell me more.', 'Why do you say that?', 'I see. And what does that tell you?', 'How does that make you feel?', 'Can you elaborate on that?']]]\n",
      "{'i': 'you', 'me': 'you', 'my': 'your', 'mine': 'yours', 'myself': 'yourself', 'am': 'are', 'was': 'were', 'you': 'I', 'your': 'my', 'yours': 'mine', 'yourself': 'myself', 'us': 'you', 'our': 'your', 'ours': 'yours', 'ourselves': 'yourselves'}\n",
      "My ball got lost\n"
     ]
    }
   ],
   "source": [
    "# Code here\n",
    "print(responseTable)\n",
    "print(reflectionTable)\n",
    "text = \"my ball got lost\"\n",
    "text.upper()\n",
    "text = text[0].upper() + text [1:]\n",
    "print (text)\n",
    "\n"
   ]
  },
  {
   "cell_type": "code",
   "execution_count": 146,
   "metadata": {},
   "outputs": [
    {
     "name": "stdout",
     "output_type": "stream",
     "text": [
      "Why do you feel happy?\n"
     ]
    }
   ],
   "source": [
    "class Aleeza:\n",
    "  def __init__(self, reflectionTable, responseTable):\n",
    "    \"\"\"\n",
    "    Initiliase  bot by storing both the tables as instance variables.\n",
    "    You can store them any way you want. (Dictionary, List, etc.)\n",
    "    \"\"\"\n",
    "    self.reflectionTable = reflectionTable\n",
    "    self.responseTable = responseTable\n",
    "    # Code here\n",
    "\n",
    "  def reflect(self, text):\n",
    "    \"\"\"\n",
    "    Take a string and \"reflect\" based on the reflectionTable.\n",
    "    Return the modified string.\n",
    "    \"\"\"\n",
    "    words = text.lower().split()\n",
    "    reflected_words = [self.reflectionTable.get(word, word) for word in words]\n",
    "    return ' '.join(reflected_words)\n",
    "        \n",
    "    # Code here\n",
    "\n",
    "  def respond(self, text):\n",
    "    \"\"\"\n",
    "      Take a string, find a match, and return a randomly\n",
    "      chosen response from the corresponding list.\n",
    "\n",
    "      Do not forget to \"reflect\" appropriate parts of the string.\n",
    "\n",
    "      If there is no match, return None.\n",
    "    \"\"\"\n",
    "    text = text[0].upper() + text [1:]\n",
    "    for pattern, responses in self.responseTable:\n",
    "            match = re.match(pattern, text)\n",
    "            if match:\n",
    "                response = random.choice(responses)\n",
    "                return self._replace_groups(response, match)\n",
    "    return None\n",
    "  def _replace_groups(self, response, match):\n",
    "        text = response\n",
    "        for i in range(1, len(match.groups()) + 1):\n",
    "            text = text.replace('%' + str(i), self.reflect(match.group(i)))\n",
    "        return text\n",
    "\n",
    "# Example of how to use the class\n",
    "reflectionTable = {\n",
    "    # Add your reflection table entries here\n",
    "    \"i\"    : \"you\",\n",
    "    \"me\"    : \"you\",\n",
    "    # Add other entries here\n",
    "}\n",
    "\n",
    "bot = Aleeza(reflectionTable, responseTable)\n",
    "\n",
    "# Example interaction\n",
    "input_text = \"I feel happy\"\n",
    "print(bot.respond(input_text))\n",
    "    # Code here\n",
    "    \n"
   ]
  },
  {
   "cell_type": "markdown",
   "metadata": {},
   "source": [
    "## Testing our Bot\n",
    "\n"
   ]
  },
  {
   "cell_type": "code",
   "execution_count": 147,
   "metadata": {},
   "outputs": [],
   "source": [
    "def command_interface():\n",
    "    print('Aleeza\\n---------')\n",
    "    print('Talk to the program by typing in plain English.')\n",
    "    print('='*72)\n",
    "    print('Hello.  How are you feeling today?')\n",
    "\n",
    "    s = ''\n",
    "    therapist = Aleeza(reflectionTable, responseTable)\n",
    "    while s != 'quit':\n",
    "        try:\n",
    "            s = input('> ')\n",
    "        except EOFError:\n",
    "            s = 'quit'\n",
    "        print(s)\n",
    "        while s[-1] in '!.':\n",
    "            s = s[:-1]\n",
    "        print(therapist.respond(s))"
   ]
  },
  {
   "cell_type": "code",
   "execution_count": 148,
   "metadata": {},
   "outputs": [
    {
     "name": "stdout",
     "output_type": "stream",
     "text": [
      "Aleeza\n",
      "---------\n",
      "Talk to the program by typing in plain English.\n",
      "========================================================================\n",
      "Hello.  How are you feeling today?\n",
      "\n"
     ]
    },
    {
     "ename": "IndexError",
     "evalue": "string index out of range",
     "output_type": "error",
     "traceback": [
      "\u001b[0;31m---------------------------------------------------------------------------\u001b[0m",
      "\u001b[0;31mIndexError\u001b[0m                                Traceback (most recent call last)",
      "Cell \u001b[0;32mIn[148], line 1\u001b[0m\n\u001b[0;32m----> 1\u001b[0m \u001b[43mcommand_interface\u001b[49m\u001b[43m(\u001b[49m\u001b[43m)\u001b[49m\n",
      "Cell \u001b[0;32mIn[147], line 15\u001b[0m, in \u001b[0;36mcommand_interface\u001b[0;34m()\u001b[0m\n\u001b[1;32m     13\u001b[0m     s \u001b[38;5;241m=\u001b[39m \u001b[38;5;124m'\u001b[39m\u001b[38;5;124mquit\u001b[39m\u001b[38;5;124m'\u001b[39m\n\u001b[1;32m     14\u001b[0m \u001b[38;5;28mprint\u001b[39m(s)\n\u001b[0;32m---> 15\u001b[0m \u001b[38;5;28;01mwhile\u001b[39;00m \u001b[43ms\u001b[49m\u001b[43m[\u001b[49m\u001b[38;5;241;43m-\u001b[39;49m\u001b[38;5;241;43m1\u001b[39;49m\u001b[43m]\u001b[49m \u001b[38;5;129;01min\u001b[39;00m \u001b[38;5;124m'\u001b[39m\u001b[38;5;124m!.\u001b[39m\u001b[38;5;124m'\u001b[39m:\n\u001b[1;32m     16\u001b[0m     s \u001b[38;5;241m=\u001b[39m s[:\u001b[38;5;241m-\u001b[39m\u001b[38;5;241m1\u001b[39m]\n\u001b[1;32m     17\u001b[0m \u001b[38;5;28mprint\u001b[39m(therapist\u001b[38;5;241m.\u001b[39mrespond(s))\n",
      "\u001b[0;31mIndexError\u001b[0m: string index out of range"
     ]
    }
   ],
   "source": [
    "command_interface()"
   ]
  },
  {
   "cell_type": "markdown",
   "metadata": {},
   "source": [
    "## Test Sentences\n",
    "\n"
   ]
  },
  {
   "cell_type": "code",
   "execution_count": null,
   "metadata": {},
   "outputs": [],
   "source": [
    "test_sentences = [\n",
    "    # Add test sentences here\n",
    "    \"I am sad\",\n",
    "    \"you are unhelpful\",\n",
    "    \"He is toxic\",\n",
    "    \"She is abusive\",\n",
    "    \"It is hurtful\",\n",
    "    \"I feel like a failure\",\n",
    "    \"I want to feel better\",\n",
    "    \"I think a lot\",\n",
    "    \"Are you annoyed?\",\n",
    "    \"What is life\",\n",
    "    \"Why do we even live?\",\n",
    "    \"I will giveup\",\n",
    "    \"Yes\",\n",
    "    \"My heart feels heavy\",\n",
    "    \"Whatever i dont care\",\n",
    "    \"I voted for Moon League\",\n",
    "    \"Im struggling with anxiety\",\n",
    "    \"How can I stop feeling depressed?\"\n",
    "]"
   ]
  },
  {
   "cell_type": "code",
   "execution_count": null,
   "metadata": {},
   "outputs": [],
   "source": [
    "def get_responses(sentence_list, bot):\n",
    "    \"\"\"\n",
    "    Get a response for each sentence from the list and return as a list.\n",
    "    \"\"\"\n",
    "    responses = []\n",
    "    therapist = Aleeza(reflectionTable, responseTable)\n",
    "    prompt = \"\"\n",
    "    for sentence in sentence_list:\n",
    "        if sentence != (\" \" or \".\"):\n",
    "            responses.append(therapist.respond(sentence))\n",
    "\n",
    "    return responses\n",
    "    # Code here"
   ]
  },
  {
   "cell_type": "code",
   "execution_count": null,
   "metadata": {},
   "outputs": [
    {
     "name": "stdout",
     "output_type": "stream",
     "text": [
      "========================================================================\n",
      "I am sad\n",
      "That seems tough on you, wanna talk about it?\n",
      "========================================================================\n",
      "you are unhelpful\n",
      "How does it affect you that I am unhelpful?\n",
      "========================================================================\n",
      "He is toxic\n",
      "How do you feel about him being toxic?\n",
      "========================================================================\n",
      "She is abusive\n",
      "Does it concern you that she is abusive?\n",
      "========================================================================\n",
      "It is hurtful\n",
      "Why do you say it is hurtful?\n",
      "========================================================================\n",
      "I feel like a failure\n",
      "Why do you feel like a failure?\n",
      "========================================================================\n",
      "I want to feel better\n",
      "What would you do if you got to feel better?\n",
      "========================================================================\n",
      "I think a lot\n",
      "Why do you think a lot?\n",
      "========================================================================\n",
      "Are you annoyed?\n",
      "Why do you ask if I am annoyed??\n",
      "========================================================================\n",
      "What is life\n",
      "How does what being life affect you?\n",
      "========================================================================\n",
      "Why do we even live?\n",
      "Why do you think?\n",
      "========================================================================\n",
      "I will giveup\n",
      "Will doing giveup help you feel better or worse?\n",
      "========================================================================\n",
      "Yes\n",
      "Tell me more about this\n",
      "========================================================================\n",
      "My heart feels heavy\n",
      "Tell me more about your heart feels heavy \n",
      "========================================================================\n",
      "Whatever i dont care\n",
      "Why do you say that?\n",
      "========================================================================\n",
      "I voted for Moon League\n",
      "How did voting for moon league make you feel?\n",
      "========================================================================\n",
      "Im struggling with anxiety\n",
      "Is it because of this assignemnt ?\n",
      "========================================================================\n",
      "How can I stop feeling depressed?\n",
      "Killing a feeling is a process, start by telling me whats something that makes you feel (.*) the most\n"
     ]
    }
   ],
   "source": [
    "therapist = Aleeza(reflectionTable, responseTable)\n",
    "\n",
    "for pair in zip(test_sentences, get_responses(test_sentences, therapist)):\n",
    "    print('='*72)\n",
    "    print(pair[0])\n",
    "    print(pair[1])"
   ]
  },
  {
   "cell_type": "markdown",
   "metadata": {},
   "source": [
    "# Giving Aleeza Emotional Intelligence\n",
    "\n"
   ]
  },
  {
   "cell_type": "code",
   "execution_count": null,
   "metadata": {},
   "outputs": [],
   "source": [
    "import datasets\n",
    "import sklearn\n",
    "from sklearn.feature_extraction.text import CountVectorizer\n",
    "from sklearn.naive_bayes import MultinomialNB\n",
    "from sklearn.pipeline import make_pipeline\n",
    "from sklearn.metrics import classification_report"
   ]
  },
  {
   "cell_type": "markdown",
   "metadata": {},
   "source": [
    "## Dataset\n",
    "\n",
    "We will be using the `emotion` dataset from the `datasets` library. This dataset contains text data and the corresponding emotion. "
   ]
  },
  {
   "cell_type": "code",
   "execution_count": null,
   "metadata": {},
   "outputs": [
    {
     "name": "stderr",
     "output_type": "stream",
     "text": [
      "/Library/Frameworks/Python.framework/Versions/3.11/lib/python3.11/site-packages/datasets/load.py:1454: FutureWarning: The repository for emotion contains custom code which must be executed to correctly load the dataset. You can inspect the repository content at https://hf.co/datasets/emotion\n",
      "You can avoid this message in future by passing the argument `trust_remote_code=True`.\n",
      "Passing `trust_remote_code=True` will be mandatory to load this dataset from the next major release of `datasets`.\n",
      "  warnings.warn(\n"
     ]
    },
    {
     "name": "stdout",
     "output_type": "stream",
     "text": [
      "DatasetDict({\n",
      "    train: Dataset({\n",
      "        features: ['text', 'label'],\n",
      "        num_rows: 16000\n",
      "    })\n",
      "    validation: Dataset({\n",
      "        features: ['text', 'label'],\n",
      "        num_rows: 2000\n",
      "    })\n",
      "    test: Dataset({\n",
      "        features: ['text', 'label'],\n",
      "        num_rows: 2000\n",
      "    })\n",
      "})\n"
     ]
    }
   ],
   "source": [
    "\"\"\"\n",
    "Load the emotion dataset from Hugging Face\n",
    "\"\"\"\n",
    "\n",
    "dataset = datasets.load_dataset('emotion')\n",
    "\n",
    "\n",
    "print(dataset)"
   ]
  },
  {
   "cell_type": "code",
   "execution_count": null,
   "metadata": {},
   "outputs": [
    {
     "name": "stdout",
     "output_type": "stream",
     "text": [
      "DatasetDict({\n",
      "    train: Dataset({\n",
      "        features: ['text', 'label'],\n",
      "        num_rows: 16000\n",
      "    })\n",
      "    validation: Dataset({\n",
      "        features: ['text', 'label'],\n",
      "        num_rows: 2000\n",
      "    })\n",
      "    test: Dataset({\n",
      "        features: ['text', 'label'],\n",
      "        num_rows: 2000\n",
      "    })\n",
      "})\n",
      "['i didnt feel humiliated', 'i can go from feeling so hopeless to so damned hopeful just from being around someone who cares and is awake', 'im grabbing a minute to post i feel greedy wrong', 'i am ever feeling nostalgic about the fireplace i will know that it is still on the property', 'i am feeling grouchy']\n",
      "[0, 0, 3, 2, 3]\n"
     ]
    }
   ],
   "source": [
    "\"\"\"\n",
    "Split the dataset into training and testing sets\n",
    "\"\"\"\n",
    "print(dataset)\n",
    "# Code below\n",
    "train_data = dataset['train']['text']\n",
    "train_labels = dataset['train']['label']\n",
    "test_data = dataset['test']['text']\n",
    "test_labels = dataset['test']['label']\n",
    "\n",
    "print(train_data[0:5])\n",
    "print(train_labels[0:5])"
   ]
  },
  {
   "cell_type": "markdown",
   "metadata": {},
   "source": [
    "## Training the Model\n",
    "\n"
   ]
  },
  {
   "cell_type": "code",
   "execution_count": 149,
   "metadata": {},
   "outputs": [
    {
     "name": "stdout",
     "output_type": "stream",
     "text": [
      "              precision    recall  f1-score   support\n",
      "\n",
      "           0       0.74      0.94      0.83       581\n",
      "           1       0.74      0.97      0.84       695\n",
      "           2       0.95      0.23      0.37       159\n",
      "           3       0.92      0.57      0.70       275\n",
      "           4       0.82      0.53      0.64       224\n",
      "           5       0.00      0.00      0.00        66\n",
      "\n",
      "    accuracy                           0.77      2000\n",
      "   macro avg       0.69      0.54      0.56      2000\n",
      "weighted avg       0.77      0.77      0.73      2000\n",
      "\n"
     ]
    },
    {
     "name": "stderr",
     "output_type": "stream",
     "text": [
      "/Library/Frameworks/Python.framework/Versions/3.11/lib/python3.11/site-packages/sklearn/metrics/_classification.py:1469: UndefinedMetricWarning: Precision and F-score are ill-defined and being set to 0.0 in labels with no predicted samples. Use `zero_division` parameter to control this behavior.\n",
      "  _warn_prf(average, modifier, msg_start, len(result))\n",
      "/Library/Frameworks/Python.framework/Versions/3.11/lib/python3.11/site-packages/sklearn/metrics/_classification.py:1469: UndefinedMetricWarning: Precision and F-score are ill-defined and being set to 0.0 in labels with no predicted samples. Use `zero_division` parameter to control this behavior.\n",
      "  _warn_prf(average, modifier, msg_start, len(result))\n",
      "/Library/Frameworks/Python.framework/Versions/3.11/lib/python3.11/site-packages/sklearn/metrics/_classification.py:1469: UndefinedMetricWarning: Precision and F-score are ill-defined and being set to 0.0 in labels with no predicted samples. Use `zero_division` parameter to control this behavior.\n",
      "  _warn_prf(average, modifier, msg_start, len(result))\n"
     ]
    }
   ],
   "source": [
    "\"\"\"\n",
    "Vectorise the data and train the model\n",
    "\"\"\"\n",
    "\n",
    "# Code here\n",
    "vectorizer = CountVectorizer()\n",
    "clf = MultinomialNB()\n",
    "model = make_pipeline(vectorizer, clf)\n",
    "\n",
    "model.fit(train_data, train_labels)\n",
    "\n",
    "\"\"\"\n",
    "Predict on the test set\n",
    "\"\"\"\n",
    "\n",
    "predicted_labels = model.predict(test_data)\n",
    "\n",
    "\n",
    "\n",
    "\"\"\"\n",
    "Print classification report\n",
    "\"\"\"\n",
    "print(classification_report(test_labels, predicted_labels))"
   ]
  },
  {
   "cell_type": "markdown",
   "metadata": {},
   "source": [
    "## Putting it all together\n",
    "\n",
    "Now that we have our classification model, we can modify our chatbot to use it.\n",
    "\n",
    "First, we will remove the fallback responses from our response table, i.e. the following cases:\n",
    "1. (I feel ...), (I want ...), (I think ...)\n",
    "2. Subject with an unknown verb\n",
    "3. An unrecognised question\n",
    "4. Any string\n",
    "\n"
   ]
  },
  {
   "cell_type": "code",
   "execution_count": null,
   "metadata": {},
   "outputs": [],
   "source": [
    "# Make a new file \"responseTable2.json\" and add your modified table to it\n",
    "\n",
    "responseTable = json.load(open('responseTable2.json'))"
   ]
  },
  {
   "cell_type": "markdown",
   "metadata": {},
   "source": [
    "#### Emotion Response Table\n",
    "\n",
    "This table will be a dictionary with the emotions as keys and a list of possible responses as values. "
   ]
  },
  {
   "cell_type": "code",
   "execution_count": null,
   "metadata": {},
   "outputs": [],
   "source": [
    "# Add responses below\n",
    "emotionTable = {\n",
    "    0: [ # sadness\n",
    "        \"It sounds like you're having a tough time. Do you want to talk more about what's making you feel sad?\",\n",
    "        \"I'm here for you. What's been on your mind lately that's causing you to feel sad?\"\n",
    "    ],\n",
    "    1: [ # joy\n",
    "        \"That's great to hear! What's been making you feel so joyful?\",\n",
    "        \"Im glad you're feeling good, What's been the best part of your day?\"\n",
    "    ],\n",
    "    2: [ # love\n",
    "        \"It sounds like you're feeling really positive. What or who is bringing love into your life right now?\",\n",
    "        \"Love is a beautiful thing. Would you like to share more about this?\"\n",
    "    ],\n",
    "    3: [ # anger\n",
    "        \"It seems like something is really bothering you. Do you want to talk about what's making you angry?\",\n",
    "        \"Anger can be tough to deal with. What's been frustrating you lately?\"\n",
    "    ],\n",
    "    4: [ # fear\n",
    "        \"It's okay to feel scared sometimes. Can you share more about what's worrying you?\",\n",
    "        \"Fear can be overwhelming. What's on your mind that's causing you to feel this way?\"\n",
    "    ],\n",
    "    5: [ # surprise\n",
    "        \"That sounds unexpected! Do you want to talk more about what surprised you?\",\n",
    "        \"Surprises can be shocking. What's happened that you weren't expecting?\"\n",
    "    ]\n",
    "}\n"
   ]
  },
  {
   "cell_type": "markdown",
   "metadata": {},
   "source": [
    "### Modifying your Chatbot\n",
    "\n",
    "You will now modify your chatbot to use the emotion classifier. If there is a match in the response table, we will use the response from the table. If there is no match, we will classify the emotion of the input and respond accordingly."
   ]
  },
  {
   "cell_type": "code",
   "execution_count": null,
   "metadata": {},
   "outputs": [],
   "source": [
    "class IntelligentAleeza(Aleeza):\n",
    "    def __init__(self, reflectionTable, responseTable, emotionTable, classifier):\n",
    "        \"\"\"\n",
    "        Initialise your bot by calling the parent class's __init__ method,\n",
    "        and then storing the emotionTable as an instance variable.\n",
    "\n",
    "        Next, store the classification model as an instance variable.\n",
    "        \"\"\"\n",
    "        super().__init__(reflectionTable, responseTable)\n",
    "        self.emotionTable = emotionTable\n",
    "        self.classifier = classifier\n",
    "        # Code here\n",
    "\n",
    "    def smart_respond(self, text):\n",
    "        \"\"\"\n",
    "        Take a string, call the parent class's respond method.\n",
    "        If the response is None, then respond based on the emotion.\n",
    "        \"\"\"\n",
    "        response = super().respond(text)\n",
    "        if response is None:\n",
    "            emotion = self.classifier.predict([text])\n",
    "            emotion_responses = self.emotionTable.get(emotion)\n",
    "            if emotion_responses:\n",
    "                response = random.choice(emotion_responses)\n",
    "            else:\n",
    "                response = \"I'm not sure how to respond to that.\"\n",
    "        return response"
   ]
  },
  {
   "cell_type": "markdown",
   "metadata": {},
   "source": [
    "## Test our New Bot\n",
    "\n",
    "Randomly selecting 5 sentences from the test set to test our bot. We should see that it now responds with an appropriate message based on the emotion detected in the input (when there is no match)."
   ]
  },
  {
   "cell_type": "code",
   "execution_count": null,
   "metadata": {},
   "outputs": [
    {
     "name": "stdout",
     "output_type": "stream",
     "text": [
      "['i feel i have to agree with her even though i can imagine some rather unpleasant possible cases', 'i couldnt feel more blessed at this time', 'i also feel i have accepted my dark side and am finally realizing what of my dark side is healthy', 'i realize how much my little family leans on me and it felt so overwhelming and i feel so inadequate', 'i wonder if the homeowners would feel weird if i parked to gape at their landscaping']\n"
     ]
    }
   ],
   "source": [
    "def get_responses(sentence_list, bot):\n",
    "    \"\"\"\n",
    "    Get a response for each sentence from the list and return as a list.\n",
    "    Use your new smart_respond method.\n",
    "    \"\"\"\n",
    "    responses = []\n",
    "    for sentence in sentence_list:\n",
    "        response = bot.smart_respond(sentence)\n",
    "        responses.append(response)\n",
    "    return responses\n",
    "    # Code here\n",
    "test_instances = random.sample(test_data, 5)\n",
    "print(test_instances)"
   ]
  },
  {
   "cell_type": "code",
   "execution_count": null,
   "metadata": {},
   "outputs": [
    {
     "name": "stdout",
     "output_type": "stream",
     "text": [
      "[0 0 1]\n"
     ]
    }
   ],
   "source": [
    "instance = [\"I just dont understand why life treats me so poorly\", \"I want to die so bad pls save me\", \"I am so glad i didnt die\"]\n",
    "predicted_labels = model.predict(instance)\n",
    "print(predicted_labels)"
   ]
  },
  {
   "cell_type": "code",
   "execution_count": 150,
   "metadata": {},
   "outputs": [
    {
     "name": "stdout",
     "output_type": "stream",
     "text": [
      "========================================================================\n",
      "i can feel some kind of acceptance in the song which is why i gave the photo a kind of ecstatic ascension to a higher level of conscience aesthetic like a rapture of sort\n",
      "Why do you say you can feel some kind of acceptance in the song which is why you gave the photo a kind of ecstatic ascension to a higher level of conscience aesthetic like a rapture of sort?\n",
      "========================================================================\n",
      "i feel myself about how successful my attempts are im starting to connect with the fact that people want to hear music not perfection whatever that is\n",
      "How long have you felt myself about how successful my attempts are im starting to connect with the fact that people want to hear music not perfection whatever that is?\n",
      "========================================================================\n",
      "i wonder if the homeowners would feel weird if i parked to gape at their landscaping\n",
      "I see. And what does that tell you?\n",
      "========================================================================\n",
      "i was feeling rather homesick today so i decided to make a list of typical city sight that might come in use should you decide to visit switzerlands largest city\n",
      "Tell me more.\n",
      "========================================================================\n",
      "i first started reading city of dark magic i thought it would be a challenge to actually enjoy it since i felt like the content about famous classical music was over my head but luckily after plowing through the first chapter i became more confident and started feeling less dumb\n",
      "Can you elaborate on that?\n"
     ]
    }
   ],
   "source": [
    "import random\n",
    "\n",
    "\"\"\"\n",
    "\n",
    "Create an instance of the IntelligentAleeza class\n",
    "\"\"\"\n",
    "\n",
    "intelligent_therapist = IntelligentAleeza(reflectionTable, responseTable, emotionTable, model)\n",
    "\n",
    "\"\"\"\n",
    "Get 5 random test instances from the test data\n",
    "\"\"\"\n",
    "test_instances = random.sample(test_data, 5)\n",
    "\n",
    "\n",
    "\"\"\" \n",
    "Get responses from the intelligent_therapist \n",
    "\"\"\"\n",
    "\n",
    "responses = get_responses(test_instances, intelligent_therapist)\n",
    "\n",
    "\n",
    "\"\"\"\n",
    "Print the test instances and the responses\n",
    "\"\"\"\n",
    "for pair in zip(test_instances, responses):\n",
    "    print('='*72)\n",
    "    print(pair[0])\n",
    "    print(pair[1])"
   ]
  },
  {
   "cell_type": "code",
   "execution_count": null,
   "metadata": {},
   "outputs": [
    {
     "name": "stdout",
     "output_type": "stream",
     "text": [
      "Aleeza\n",
      "---------\n",
      "Talk to the program by typing in plain English.\n",
      "========================================================================\n",
      "Hello.  How are you feeling today?\n",
      "\n"
     ]
    },
    {
     "ename": "IndexError",
     "evalue": "string index out of range",
     "output_type": "error",
     "traceback": [
      "\u001b[0;31m---------------------------------------------------------------------------\u001b[0m",
      "\u001b[0;31mIndexError\u001b[0m                                Traceback (most recent call last)",
      "Cell \u001b[0;32mIn[134], line 19\u001b[0m\n\u001b[1;32m     16\u001b[0m             s \u001b[38;5;241m=\u001b[39m s[:\u001b[38;5;241m-\u001b[39m\u001b[38;5;241m1\u001b[39m]\n\u001b[1;32m     17\u001b[0m         \u001b[38;5;28mprint\u001b[39m(therapist\u001b[38;5;241m.\u001b[39mrespond(s))\n\u001b[0;32m---> 19\u001b[0m \u001b[43mmyAleeza\u001b[49m\u001b[43m(\u001b[49m\u001b[43m)\u001b[49m\n",
      "Cell \u001b[0;32mIn[134], line 15\u001b[0m, in \u001b[0;36mmyAleeza\u001b[0;34m()\u001b[0m\n\u001b[1;32m     13\u001b[0m     s \u001b[38;5;241m=\u001b[39m \u001b[38;5;124m'\u001b[39m\u001b[38;5;124mquit\u001b[39m\u001b[38;5;124m'\u001b[39m\n\u001b[1;32m     14\u001b[0m \u001b[38;5;28mprint\u001b[39m(s)\n\u001b[0;32m---> 15\u001b[0m \u001b[38;5;28;01mwhile\u001b[39;00m \u001b[43ms\u001b[49m\u001b[43m[\u001b[49m\u001b[38;5;241;43m-\u001b[39;49m\u001b[38;5;241;43m1\u001b[39;49m\u001b[43m]\u001b[49m \u001b[38;5;129;01min\u001b[39;00m \u001b[38;5;124m'\u001b[39m\u001b[38;5;124m!.\u001b[39m\u001b[38;5;124m'\u001b[39m:\n\u001b[1;32m     16\u001b[0m     s \u001b[38;5;241m=\u001b[39m s[:\u001b[38;5;241m-\u001b[39m\u001b[38;5;241m1\u001b[39m]\n\u001b[1;32m     17\u001b[0m \u001b[38;5;28mprint\u001b[39m(therapist\u001b[38;5;241m.\u001b[39mrespond(s))\n",
      "\u001b[0;31mIndexError\u001b[0m: string index out of range"
     ]
    }
   ],
   "source": [
    "def myAleeza():\n",
    "    print('Aleeza\\n---------')\n",
    "    print('Talk to the program by typing in plain English.')\n",
    "    print('='*72)\n",
    "    print('Hello.  How are you feeling today?')\n",
    "\n",
    "    s = ''\n",
    "    therapist = IntelligentAleeza(reflectionTable, responseTable, emotionTable, model)\n",
    "    while s != 'quit':\n",
    "        try:\n",
    "            s = input('> ')\n",
    "        except EOFError:\n",
    "            s = 'quit'\n",
    "        print(s)\n",
    "        while s[-1] in '!.':\n",
    "            s = s[:-1]\n",
    "        print(therapist.respond(s))\n",
    "        \n",
    "myAleeza()"
   ]
  }
 ],
 "metadata": {
  "kernelspec": {
   "display_name": "Python 3",
   "language": "python",
   "name": "python3"
  },
  "language_info": {
   "codemirror_mode": {
    "name": "ipython",
    "version": 3
   },
   "file_extension": ".py",
   "mimetype": "text/x-python",
   "name": "python",
   "nbconvert_exporter": "python",
   "pygments_lexer": "ipython3",
   "version": "3.11.1"
  }
 },
 "nbformat": 4,
 "nbformat_minor": 2
}
